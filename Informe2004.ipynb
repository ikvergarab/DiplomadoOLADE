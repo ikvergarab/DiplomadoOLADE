{
 "cells": [
  {
   "cell_type": "markdown",
   "metadata": {},
   "source": [
    "# Informe de aportes hidrologicos para el año 2004"
   ]
  },
  {
   "cell_type": "markdown",
   "metadata": {},
   "source": [
    "Este es un ejemplo de **clase** sobre la *manipulación* de archivos csv usando python\n",
    "* **item 1**\n",
    "* item 2\n",
    "* item 3"
   ]
  },
  {
   "cell_type": "code",
   "execution_count": null,
   "metadata": {
    "collapsed": true
   },
   "outputs": [],
   "source": [
    "lll\n",
    "kkk\n"
   ]
  },
  {
   "cell_type": "code",
   "execution_count": 1,
   "metadata": {
    "collapsed": false,
    "scrolled": false
   },
   "outputs": [
    {
     "name": "stdout",
     "output_type": "stream",
     "text": [
      "Help on built-in function open in module io:\n",
      "\n",
      "open(file, mode='r', buffering=-1, encoding=None, errors=None, newline=None, closefd=True, opener=None)\n",
      "    Open file and return a stream.  Raise IOError upon failure.\n",
      "    \n",
      "    file is either a text or byte string giving the name (and the path\n",
      "    if the file isn't in the current working directory) of the file to\n",
      "    be opened or an integer file descriptor of the file to be\n",
      "    wrapped. (If a file descriptor is given, it is closed when the\n",
      "    returned I/O object is closed, unless closefd is set to False.)\n",
      "    \n",
      "    mode is an optional string that specifies the mode in which the file\n",
      "    is opened. It defaults to 'r' which means open for reading in text\n",
      "    mode.  Other common values are 'w' for writing (truncating the file if\n",
      "    it already exists), 'x' for creating and writing to a new file, and\n",
      "    'a' for appending (which on some Unix systems, means that all writes\n",
      "    append to the end of the file regardless of the current seek position).\n",
      "    In text mode, if encoding is not specified the encoding used is platform\n",
      "    dependent: locale.getpreferredencoding(False) is called to get the\n",
      "    current locale encoding. (For reading and writing raw bytes use binary\n",
      "    mode and leave encoding unspecified.) The available modes are:\n",
      "    \n",
      "    ========= ===============================================================\n",
      "    Character Meaning\n",
      "    --------- ---------------------------------------------------------------\n",
      "    'r'       open for reading (default)\n",
      "    'w'       open for writing, truncating the file first\n",
      "    'x'       create a new file and open it for writing\n",
      "    'a'       open for writing, appending to the end of the file if it exists\n",
      "    'b'       binary mode\n",
      "    't'       text mode (default)\n",
      "    '+'       open a disk file for updating (reading and writing)\n",
      "    'U'       universal newline mode (deprecated)\n",
      "    ========= ===============================================================\n",
      "    \n",
      "    The default mode is 'rt' (open for reading text). For binary random\n",
      "    access, the mode 'w+b' opens and truncates the file to 0 bytes, while\n",
      "    'r+b' opens the file without truncation. The 'x' mode implies 'w' and\n",
      "    raises an `FileExistsError` if the file already exists.\n",
      "    \n",
      "    Python distinguishes between files opened in binary and text modes,\n",
      "    even when the underlying operating system doesn't. Files opened in\n",
      "    binary mode (appending 'b' to the mode argument) return contents as\n",
      "    bytes objects without any decoding. In text mode (the default, or when\n",
      "    't' is appended to the mode argument), the contents of the file are\n",
      "    returned as strings, the bytes having been first decoded using a\n",
      "    platform-dependent encoding or using the specified encoding if given.\n",
      "    \n",
      "    'U' mode is deprecated and will raise an exception in future versions\n",
      "    of Python.  It has no effect in Python 3.  Use newline to control\n",
      "    universal newlines mode.\n",
      "    \n",
      "    buffering is an optional integer used to set the buffering policy.\n",
      "    Pass 0 to switch buffering off (only allowed in binary mode), 1 to select\n",
      "    line buffering (only usable in text mode), and an integer > 1 to indicate\n",
      "    the size of a fixed-size chunk buffer.  When no buffering argument is\n",
      "    given, the default buffering policy works as follows:\n",
      "    \n",
      "    * Binary files are buffered in fixed-size chunks; the size of the buffer\n",
      "      is chosen using a heuristic trying to determine the underlying device's\n",
      "      \"block size\" and falling back on `io.DEFAULT_BUFFER_SIZE`.\n",
      "      On many systems, the buffer will typically be 4096 or 8192 bytes long.\n",
      "    \n",
      "    * \"Interactive\" text files (files for which isatty() returns True)\n",
      "      use line buffering.  Other text files use the policy described above\n",
      "      for binary files.\n",
      "    \n",
      "    encoding is the name of the encoding used to decode or encode the\n",
      "    file. This should only be used in text mode. The default encoding is\n",
      "    platform dependent, but any encoding supported by Python can be\n",
      "    passed.  See the codecs module for the list of supported encodings.\n",
      "    \n",
      "    errors is an optional string that specifies how encoding errors are to\n",
      "    be handled---this argument should not be used in binary mode. Pass\n",
      "    'strict' to raise a ValueError exception if there is an encoding error\n",
      "    (the default of None has the same effect), or pass 'ignore' to ignore\n",
      "    errors. (Note that ignoring encoding errors can lead to data loss.)\n",
      "    See the documentation for codecs.register or run 'help(codecs.Codec)'\n",
      "    for a list of the permitted encoding error strings.\n",
      "    \n",
      "    newline controls how universal newlines works (it only applies to text\n",
      "    mode). It can be None, '', '\\n', '\\r', and '\\r\\n'.  It works as\n",
      "    follows:\n",
      "    \n",
      "    * On input, if newline is None, universal newlines mode is\n",
      "      enabled. Lines in the input can end in '\\n', '\\r', or '\\r\\n', and\n",
      "      these are translated into '\\n' before being returned to the\n",
      "      caller. If it is '', universal newline mode is enabled, but line\n",
      "      endings are returned to the caller untranslated. If it has any of\n",
      "      the other legal values, input lines are only terminated by the given\n",
      "      string, and the line ending is returned to the caller untranslated.\n",
      "    \n",
      "    * On output, if newline is None, any '\\n' characters written are\n",
      "      translated to the system default line separator, os.linesep. If\n",
      "      newline is '' or '\\n', no translation takes place. If newline is any\n",
      "      of the other legal values, any '\\n' characters written are translated\n",
      "      to the given string.\n",
      "    \n",
      "    If closefd is False, the underlying file descriptor will be kept open\n",
      "    when the file is closed. This does not work when a file name is given\n",
      "    and must be True in that case.\n",
      "    \n",
      "    A custom opener can be used by passing a callable as *opener*. The\n",
      "    underlying file descriptor for the file object is then obtained by\n",
      "    calling *opener* with (*file*, *flags*). *opener* must return an open\n",
      "    file descriptor (passing os.open as *opener* results in functionality\n",
      "    similar to passing None).\n",
      "    \n",
      "    open() returns a file object whose type depends on the mode, and\n",
      "    through which the standard file operations such as reading and writing\n",
      "    are performed. When open() is used to open a file in a text mode ('w',\n",
      "    'r', 'wt', 'rt', etc.), it returns a TextIOWrapper. When used to open\n",
      "    a file in a binary mode, the returned class varies: in read binary\n",
      "    mode, it returns a BufferedReader; in write binary and append binary\n",
      "    modes, it returns a BufferedWriter, and in read/write mode, it returns\n",
      "    a BufferedRandom.\n",
      "    \n",
      "    It is also possible to use a string or bytearray as a file for both\n",
      "    reading and writing. For strings StringIO can be used like a file\n",
      "    opened in a text mode, and for bytes a BytesIO can be used like a file\n",
      "    opened in a binary mode.\n",
      "\n"
     ]
    }
   ],
   "source": [
    "help(open)"
   ]
  },
  {
   "cell_type": "code",
   "execution_count": null,
   "metadata": {
    "collapsed": false
   },
   "outputs": [],
   "source": [
    "# %load demo.txt\n",
    "ste es un demo que me permite la transformacion de datos\n",
    "por medio de los conocimientos adquiridos en el diplomado"
   ]
  },
  {
   "cell_type": "code",
   "execution_count": null,
   "metadata": {
    "collapsed": true
   },
   "outputs": [],
   "source": [
    "# %load demo1.txt\n",
    "hola\n",
    "este es un documento"
   ]
  },
  {
   "cell_type": "code",
   "execution_count": 12,
   "metadata": {
    "collapsed": false
   },
   "outputs": [
    {
     "name": "stdout",
     "output_type": "stream",
     "text": [
      "Writing demo2.txt\n"
     ]
    }
   ],
   "source": [
    "%%writefile demo2.txt\n",
    "linea 1\n",
    "linea 2\n",
    "linea 3\n",
    "linea 4"
   ]
  },
  {
   "cell_type": "code",
   "execution_count": 96,
   "metadata": {
    "collapsed": false
   },
   "outputs": [],
   "source": [
    "import pandas as pd\n",
    "import statistics\n",
    "import numpy as np"
   ]
  },
  {
   "cell_type": "code",
   "execution_count": 35,
   "metadata": {
    "collapsed": false
   },
   "outputs": [],
   "source": [
    "# skiprows para saltar columnas al leer\n",
    "x=pd.read_csv('AportesDiario_2004.csv', sep=';',decimal=',',thousands='.',skiprows=2)"
   ]
  },
  {
   "cell_type": "code",
   "execution_count": 33,
   "metadata": {
    "collapsed": false
   },
   "outputs": [
    {
     "data": {
      "text/html": [
       "<div>\n",
       "<table border=\"1\" class=\"dataframe\">\n",
       "  <thead>\n",
       "    <tr style=\"text-align: right;\">\n",
       "      <th></th>\n",
       "      <th>Fecha</th>\n",
       "      <th>Region Hidrologica</th>\n",
       "      <th>Nombre Rio</th>\n",
       "      <th>Aportes Caudal m3/s</th>\n",
       "      <th>Aportes Energia kWh</th>\n",
       "      <th>Aportes %</th>\n",
       "      <th>mes</th>\n",
       "    </tr>\n",
       "  </thead>\n",
       "  <tbody>\n",
       "    <tr>\n",
       "      <th>0</th>\n",
       "      <td>1/01/2004</td>\n",
       "      <td>ANTIOQUIA</td>\n",
       "      <td>A. SAN LORENZO</td>\n",
       "      <td>17.56</td>\n",
       "      <td>3910000.0</td>\n",
       "      <td>72,27%</td>\n",
       "      <td>NaN</td>\n",
       "    </tr>\n",
       "    <tr>\n",
       "      <th>1</th>\n",
       "      <td>1/01/2004</td>\n",
       "      <td>ANTIOQUIA</td>\n",
       "      <td>CONCEPCION</td>\n",
       "      <td>6.15</td>\n",
       "      <td>1385300.0</td>\n",
       "      <td>123,69%</td>\n",
       "      <td>NaN</td>\n",
       "    </tr>\n",
       "    <tr>\n",
       "      <th>2</th>\n",
       "      <td>1/01/2004</td>\n",
       "      <td>ANTIOQUIA</td>\n",
       "      <td>DESV. EEPPM (NEC,PAJ,DOL)</td>\n",
       "      <td>11.43</td>\n",
       "      <td>2574700.0</td>\n",
       "      <td>147,13%</td>\n",
       "      <td>NaN</td>\n",
       "    </tr>\n",
       "    <tr>\n",
       "      <th>3</th>\n",
       "      <td>1/01/2004</td>\n",
       "      <td>ANTIOQUIA</td>\n",
       "      <td>GRANDE</td>\n",
       "      <td>18.65</td>\n",
       "      <td>4563500.0</td>\n",
       "      <td>79,23%</td>\n",
       "      <td>NaN</td>\n",
       "    </tr>\n",
       "    <tr>\n",
       "      <th>4</th>\n",
       "      <td>1/01/2004</td>\n",
       "      <td>ANTIOQUIA</td>\n",
       "      <td>GUADALUPE</td>\n",
       "      <td>11.28</td>\n",
       "      <td>2540900.0</td>\n",
       "      <td>80,15%</td>\n",
       "      <td>NaN</td>\n",
       "    </tr>\n",
       "  </tbody>\n",
       "</table>\n",
       "</div>"
      ],
      "text/plain": [
       "       Fecha Region Hidrologica                 Nombre Rio  \\\n",
       "0  1/01/2004          ANTIOQUIA             A. SAN LORENZO   \n",
       "1  1/01/2004          ANTIOQUIA                 CONCEPCION   \n",
       "2  1/01/2004          ANTIOQUIA  DESV. EEPPM (NEC,PAJ,DOL)   \n",
       "3  1/01/2004          ANTIOQUIA                     GRANDE   \n",
       "4  1/01/2004          ANTIOQUIA                  GUADALUPE   \n",
       "\n",
       "   Aportes Caudal m3/s  Aportes Energia kWh Aportes %  mes  \n",
       "0                17.56            3910000.0    72,27%  NaN  \n",
       "1                 6.15            1385300.0   123,69%  NaN  \n",
       "2                11.43            2574700.0   147,13%  NaN  \n",
       "3                18.65            4563500.0    79,23%  NaN  \n",
       "4                11.28            2540900.0    80,15%  NaN  "
      ]
     },
     "execution_count": 33,
     "metadata": {},
     "output_type": "execute_result"
    }
   ],
   "source": [
    "x.head()"
   ]
  },
  {
   "cell_type": "code",
   "execution_count": 32,
   "metadata": {
    "collapsed": false
   },
   "outputs": [
    {
     "data": {
      "text/plain": [
       "0        1/01/2004\n",
       "1        1/01/2004\n",
       "2        1/01/2004\n",
       "3        1/01/2004\n",
       "4        1/01/2004\n",
       "5        1/01/2004\n",
       "6        1/01/2004\n",
       "7        1/01/2004\n",
       "8        1/01/2004\n",
       "9        1/01/2004\n",
       "10       1/01/2004\n",
       "11       1/01/2004\n",
       "12       1/01/2004\n",
       "13       1/01/2004\n",
       "14       1/01/2004\n",
       "15       1/01/2004\n",
       "16       1/01/2004\n",
       "17       1/01/2004\n",
       "18       1/01/2004\n",
       "19       1/01/2004\n",
       "20       1/01/2004\n",
       "21       1/01/2004\n",
       "22       1/01/2004\n",
       "23       1/01/2004\n",
       "24       2/01/2004\n",
       "25       2/01/2004\n",
       "26       2/01/2004\n",
       "27       2/01/2004\n",
       "28       2/01/2004\n",
       "29       2/01/2004\n",
       "           ...    \n",
       "8754    30/12/2004\n",
       "8755    30/12/2004\n",
       "8756    30/12/2004\n",
       "8757    30/12/2004\n",
       "8758    30/12/2004\n",
       "8759    30/12/2004\n",
       "8760    31/12/2004\n",
       "8761    31/12/2004\n",
       "8762    31/12/2004\n",
       "8763    31/12/2004\n",
       "8764    31/12/2004\n",
       "8765    31/12/2004\n",
       "8766    31/12/2004\n",
       "8767    31/12/2004\n",
       "8768    31/12/2004\n",
       "8769    31/12/2004\n",
       "8770    31/12/2004\n",
       "8771    31/12/2004\n",
       "8772    31/12/2004\n",
       "8773    31/12/2004\n",
       "8774    31/12/2004\n",
       "8775    31/12/2004\n",
       "8776    31/12/2004\n",
       "8777    31/12/2004\n",
       "8778    31/12/2004\n",
       "8779    31/12/2004\n",
       "8780    31/12/2004\n",
       "8781    31/12/2004\n",
       "8782    31/12/2004\n",
       "8783    31/12/2004\n",
       "Name: Fecha, dtype: object"
      ]
     },
     "execution_count": 32,
     "metadata": {},
     "output_type": "execute_result"
    }
   ],
   "source": [
    "x['Fecha']"
   ]
  },
  {
   "cell_type": "code",
   "execution_count": 41,
   "metadata": {
    "collapsed": false
   },
   "outputs": [],
   "source": [
    "# x['Region Hidrologica'] == 'ANTIOQUIA' es una condicion y devuelve falsos y verdaderos y cuando hago \n",
    "#x[x['Region Hidrologica'] == 'ANTIOQUIA'] me devuelve los elementos que cumplen la condición\n",
    "filtro=x[x['Region Hidrologica'] == 'ANTIOQUIA']"
   ]
  },
  {
   "cell_type": "code",
   "execution_count": 42,
   "metadata": {
    "collapsed": false
   },
   "outputs": [
    {
     "data": {
      "text/plain": [
       "4026"
      ]
     },
     "execution_count": 42,
     "metadata": {},
     "output_type": "execute_result"
    }
   ],
   "source": [
    "len(filtro)"
   ]
  },
  {
   "cell_type": "code",
   "execution_count": 43,
   "metadata": {
    "collapsed": false
   },
   "outputs": [
    {
     "data": {
      "text/plain": [
       "{'A. SAN LORENZO',\n",
       " 'ALTOANCHICAYA',\n",
       " 'BATA',\n",
       " 'BOGOTA N.R.',\n",
       " 'CALIMA',\n",
       " 'CAUCA SALVAJINA',\n",
       " 'CHUZA',\n",
       " 'CONCEPCION',\n",
       " 'DESV. EEPPM (NEC,PAJ,DOL)',\n",
       " 'DIGUA',\n",
       " 'FLORIDA II',\n",
       " 'GRANDE',\n",
       " 'GUADALUPE',\n",
       " 'GUATAPE',\n",
       " 'GUAVIO',\n",
       " 'MAGDALENA BETANIA',\n",
       " 'MIEL I',\n",
       " 'NARE',\n",
       " 'OTROS RIOS (ESTIMADOS)',\n",
       " 'PORCE II',\n",
       " 'PRADO',\n",
       " 'SAN CARLOS',\n",
       " 'SINU URRA',\n",
       " 'TENCHE'}"
      ]
     },
     "execution_count": 43,
     "metadata": {},
     "output_type": "execute_result"
    }
   ],
   "source": [
    "# Set conjunto de datos que no estan repetidos\n",
    "set(x['Nombre Rio'])\n"
   ]
  },
  {
   "cell_type": "code",
   "execution_count": 44,
   "metadata": {
    "collapsed": false
   },
   "outputs": [
    {
     "data": {
      "text/html": [
       "<div>\n",
       "<table border=\"1\" class=\"dataframe\">\n",
       "  <thead>\n",
       "    <tr style=\"text-align: right;\">\n",
       "      <th></th>\n",
       "      <th>Aportes Caudal m3/s</th>\n",
       "      <th>Aportes Energia kWh</th>\n",
       "      <th>mes</th>\n",
       "    </tr>\n",
       "    <tr>\n",
       "      <th>Nombre Rio</th>\n",
       "      <th></th>\n",
       "      <th></th>\n",
       "      <th></th>\n",
       "    </tr>\n",
       "  </thead>\n",
       "  <tbody>\n",
       "    <tr>\n",
       "      <th>A. SAN LORENZO</th>\n",
       "      <td>36.466612</td>\n",
       "      <td>8.105400e+06</td>\n",
       "      <td>NaN</td>\n",
       "    </tr>\n",
       "    <tr>\n",
       "      <th>ALTOANCHICAYA</th>\n",
       "      <td>43.468716</td>\n",
       "      <td>4.620596e+06</td>\n",
       "      <td>NaN</td>\n",
       "    </tr>\n",
       "    <tr>\n",
       "      <th>BATA</th>\n",
       "      <td>95.478989</td>\n",
       "      <td>1.571243e+07</td>\n",
       "      <td>NaN</td>\n",
       "    </tr>\n",
       "    <tr>\n",
       "      <th>BOGOTA N.R.</th>\n",
       "      <td>28.051803</td>\n",
       "      <td>1.277674e+07</td>\n",
       "      <td>NaN</td>\n",
       "    </tr>\n",
       "    <tr>\n",
       "      <th>CALIMA</th>\n",
       "      <td>11.922077</td>\n",
       "      <td>5.560117e+05</td>\n",
       "      <td>NaN</td>\n",
       "    </tr>\n",
       "    <tr>\n",
       "      <th>CAUCA SALVAJINA</th>\n",
       "      <td>113.523306</td>\n",
       "      <td>2.519614e+06</td>\n",
       "      <td>NaN</td>\n",
       "    </tr>\n",
       "    <tr>\n",
       "      <th>CHUZA</th>\n",
       "      <td>9.742486</td>\n",
       "      <td>4.337967e+06</td>\n",
       "      <td>NaN</td>\n",
       "    </tr>\n",
       "    <tr>\n",
       "      <th>CONCEPCION</th>\n",
       "      <td>6.606667</td>\n",
       "      <td>1.488170e+06</td>\n",
       "      <td>NaN</td>\n",
       "    </tr>\n",
       "    <tr>\n",
       "      <th>DESV. EEPPM (NEC,PAJ,DOL)</th>\n",
       "      <td>8.312240</td>\n",
       "      <td>2.291866e+06</td>\n",
       "      <td>NaN</td>\n",
       "    </tr>\n",
       "    <tr>\n",
       "      <th>DIGUA</th>\n",
       "      <td>27.529536</td>\n",
       "      <td>4.299954e+05</td>\n",
       "      <td>NaN</td>\n",
       "    </tr>\n",
       "    <tr>\n",
       "      <th>FLORIDA II</th>\n",
       "      <td>10.712486</td>\n",
       "      <td>2.148367e+05</td>\n",
       "      <td>NaN</td>\n",
       "    </tr>\n",
       "    <tr>\n",
       "      <th>GRANDE</th>\n",
       "      <td>27.511967</td>\n",
       "      <td>6.729973e+06</td>\n",
       "      <td>NaN</td>\n",
       "    </tr>\n",
       "    <tr>\n",
       "      <th>GUADALUPE</th>\n",
       "      <td>20.167978</td>\n",
       "      <td>4.542911e+06</td>\n",
       "      <td>NaN</td>\n",
       "    </tr>\n",
       "    <tr>\n",
       "      <th>GUATAPE</th>\n",
       "      <td>34.103033</td>\n",
       "      <td>5.624479e+06</td>\n",
       "      <td>NaN</td>\n",
       "    </tr>\n",
       "    <tr>\n",
       "      <th>GUAVIO</th>\n",
       "      <td>85.884563</td>\n",
       "      <td>2.062469e+07</td>\n",
       "      <td>NaN</td>\n",
       "    </tr>\n",
       "    <tr>\n",
       "      <th>MAGDALENA BETANIA</th>\n",
       "      <td>374.490765</td>\n",
       "      <td>5.580630e+06</td>\n",
       "      <td>NaN</td>\n",
       "    </tr>\n",
       "    <tr>\n",
       "      <th>MIEL I</th>\n",
       "      <td>78.433251</td>\n",
       "      <td>3.430428e+06</td>\n",
       "      <td>NaN</td>\n",
       "    </tr>\n",
       "    <tr>\n",
       "      <th>NARE</th>\n",
       "      <td>49.711612</td>\n",
       "      <td>1.738808e+07</td>\n",
       "      <td>NaN</td>\n",
       "    </tr>\n",
       "    <tr>\n",
       "      <th>OTROS RIOS (ESTIMADOS)</th>\n",
       "      <td>NaN</td>\n",
       "      <td>3.700457e+06</td>\n",
       "      <td>NaN</td>\n",
       "    </tr>\n",
       "    <tr>\n",
       "      <th>PORCE II</th>\n",
       "      <td>99.292650</td>\n",
       "      <td>4.976887e+06</td>\n",
       "      <td>NaN</td>\n",
       "    </tr>\n",
       "    <tr>\n",
       "      <th>PRADO</th>\n",
       "      <td>45.597268</td>\n",
       "      <td>4.984191e+05</td>\n",
       "      <td>NaN</td>\n",
       "    </tr>\n",
       "    <tr>\n",
       "      <th>SAN CARLOS</th>\n",
       "      <td>24.910492</td>\n",
       "      <td>3.084509e+06</td>\n",
       "      <td>NaN</td>\n",
       "    </tr>\n",
       "    <tr>\n",
       "      <th>SINU URRA</th>\n",
       "      <td>284.444208</td>\n",
       "      <td>3.165074e+06</td>\n",
       "      <td>NaN</td>\n",
       "    </tr>\n",
       "    <tr>\n",
       "      <th>TENCHE</th>\n",
       "      <td>3.900874</td>\n",
       "      <td>8.786683e+05</td>\n",
       "      <td>NaN</td>\n",
       "    </tr>\n",
       "  </tbody>\n",
       "</table>\n",
       "</div>"
      ],
      "text/plain": [
       "                           Aportes Caudal m3/s  Aportes Energia kWh  mes\n",
       "Nombre Rio                                                              \n",
       "A. SAN LORENZO                       36.466612         8.105400e+06  NaN\n",
       "ALTOANCHICAYA                        43.468716         4.620596e+06  NaN\n",
       "BATA                                 95.478989         1.571243e+07  NaN\n",
       "BOGOTA N.R.                          28.051803         1.277674e+07  NaN\n",
       "CALIMA                               11.922077         5.560117e+05  NaN\n",
       "CAUCA SALVAJINA                     113.523306         2.519614e+06  NaN\n",
       "CHUZA                                 9.742486         4.337967e+06  NaN\n",
       "CONCEPCION                            6.606667         1.488170e+06  NaN\n",
       "DESV. EEPPM (NEC,PAJ,DOL)             8.312240         2.291866e+06  NaN\n",
       "DIGUA                                27.529536         4.299954e+05  NaN\n",
       "FLORIDA II                           10.712486         2.148367e+05  NaN\n",
       "GRANDE                               27.511967         6.729973e+06  NaN\n",
       "GUADALUPE                            20.167978         4.542911e+06  NaN\n",
       "GUATAPE                              34.103033         5.624479e+06  NaN\n",
       "GUAVIO                               85.884563         2.062469e+07  NaN\n",
       "MAGDALENA BETANIA                   374.490765         5.580630e+06  NaN\n",
       "MIEL I                               78.433251         3.430428e+06  NaN\n",
       "NARE                                 49.711612         1.738808e+07  NaN\n",
       "OTROS RIOS (ESTIMADOS)                     NaN         3.700457e+06  NaN\n",
       "PORCE II                             99.292650         4.976887e+06  NaN\n",
       "PRADO                                45.597268         4.984191e+05  NaN\n",
       "SAN CARLOS                           24.910492         3.084509e+06  NaN\n",
       "SINU URRA                           284.444208         3.165074e+06  NaN\n",
       "TENCHE                                3.900874         8.786683e+05  NaN"
      ]
     },
     "execution_count": 44,
     "metadata": {},
     "output_type": "execute_result"
    }
   ],
   "source": [
    "# A cada cambio en nombre rio (los agrupa con groupby) calculeme la media de las columnas numericas\n",
    "x.groupby('Nombre Rio').mean()\n"
   ]
  },
  {
   "cell_type": "code",
   "execution_count": 47,
   "metadata": {
    "collapsed": false
   },
   "outputs": [],
   "source": [
    "n=set(x['Nombre Rio'])\n"
   ]
  },
  {
   "cell_type": "code",
   "execution_count": 97,
   "metadata": {
    "collapsed": false
   },
   "outputs": [
    {
     "name": "stdout",
     "output_type": "stream",
     "text": [
      "NARE 17388083.6066\n",
      "TENCHE 878668.306011\n",
      "GUAVIO 20624689.3443\n",
      "MIEL I 3430428.4153\n",
      "SINU URRA 3165074.04372\n",
      "PRADO 498419.125683\n",
      "FLORIDA II nan\n",
      "SAN CARLOS 3084508.74317\n",
      "ALTOANCHICAYA 4620595.90164\n",
      "GUATAPE 5624479.23497\n",
      "DESV. EEPPM (NEC,PAJ,DOL) nan\n",
      "A. SAN LORENZO 8105399.72678\n",
      "CHUZA nan\n",
      "OTROS RIOS (ESTIMADOS) 3700456.8306\n",
      "CALIMA 556011.748634\n",
      "CAUCA SALVAJINA 2519614.48087\n",
      "CONCEPCION 1488170.4918\n",
      "GRANDE 6729973.22404\n",
      "BATA 15712428.4153\n",
      "BOGOTA N.R. nan\n",
      "DIGUA 429995.355191\n",
      "GUADALUPE 4542910.92896\n",
      "PORCE II 4976887.15847\n",
      "MAGDALENA BETANIA 5580630.32787\n"
     ]
    }
   ],
   "source": [
    "rio=[]\n",
    "media=[]\n",
    "for y in n:\n",
    "    z=x[x['Nombre Rio'] == y]['Aportes Energia kWh'] # para cada linea que cumpla la condicion de tener el mismo nobre de rio \n",
    "    # traigolos aportes de energia\n",
    "    rio.append(y)\n",
    "    \n",
    "    if len(z) > 0:\n",
    "        \n",
    "        print(y, statistics.mean(z.values[:]))\n",
    "\n",
    "        media2= np.array(media.append(statistics.mean(z.values[:])))\n",
    "\n"
   ]
  },
  {
   "cell_type": "code",
   "execution_count": 99,
   "metadata": {
    "collapsed": false
   },
   "outputs": [
    {
     "ename": "ValueError",
     "evalue": "Must pass 2-d input",
     "output_type": "error",
     "traceback": [
      "\u001b[0;31m---------------------------------------------------------------------------\u001b[0m",
      "\u001b[0;31mValueError\u001b[0m                                Traceback (most recent call last)",
      "\u001b[0;32m<ipython-input-99-55300f1bdaa4>\u001b[0m in \u001b[0;36m<module>\u001b[0;34m()\u001b[0m\n\u001b[0;32m----> 1\u001b[0;31m \u001b[0mresultado\u001b[0m\u001b[1;33m=\u001b[0m\u001b[0mpd\u001b[0m\u001b[1;33m.\u001b[0m\u001b[0mDataFrame\u001b[0m\u001b[1;33m(\u001b[0m\u001b[0mdata\u001b[0m\u001b[1;33m=\u001b[0m\u001b[0mmedia2\u001b[0m\u001b[1;33m,\u001b[0m\u001b[0mindex\u001b[0m\u001b[1;33m=\u001b[0m\u001b[0mrio\u001b[0m\u001b[1;33m)\u001b[0m\u001b[1;33m\u001b[0m\u001b[0m\n\u001b[0m",
      "\u001b[0;32mC:\\Users\\USUARIO\\Anaconda3\\lib\\site-packages\\pandas\\core\\frame.py\u001b[0m in \u001b[0;36m__init__\u001b[0;34m(self, data, index, columns, dtype, copy)\u001b[0m\n\u001b[1;32m    253\u001b[0m             \u001b[1;32melse\u001b[0m\u001b[1;33m:\u001b[0m\u001b[1;33m\u001b[0m\u001b[0m\n\u001b[1;32m    254\u001b[0m                 mgr = self._init_ndarray(data, index, columns, dtype=dtype,\n\u001b[0;32m--> 255\u001b[0;31m                                          copy=copy)\n\u001b[0m\u001b[1;32m    256\u001b[0m         \u001b[1;32melif\u001b[0m \u001b[0misinstance\u001b[0m\u001b[1;33m(\u001b[0m\u001b[0mdata\u001b[0m\u001b[1;33m,\u001b[0m \u001b[1;33m(\u001b[0m\u001b[0mlist\u001b[0m\u001b[1;33m,\u001b[0m \u001b[0mtypes\u001b[0m\u001b[1;33m.\u001b[0m\u001b[0mGeneratorType\u001b[0m\u001b[1;33m)\u001b[0m\u001b[1;33m)\u001b[0m\u001b[1;33m:\u001b[0m\u001b[1;33m\u001b[0m\u001b[0m\n\u001b[1;32m    257\u001b[0m             \u001b[1;32mif\u001b[0m \u001b[0misinstance\u001b[0m\u001b[1;33m(\u001b[0m\u001b[0mdata\u001b[0m\u001b[1;33m,\u001b[0m \u001b[0mtypes\u001b[0m\u001b[1;33m.\u001b[0m\u001b[0mGeneratorType\u001b[0m\u001b[1;33m)\u001b[0m\u001b[1;33m:\u001b[0m\u001b[1;33m\u001b[0m\u001b[0m\n",
      "\u001b[0;32mC:\\Users\\USUARIO\\Anaconda3\\lib\\site-packages\\pandas\\core\\frame.py\u001b[0m in \u001b[0;36m_init_ndarray\u001b[0;34m(self, values, index, columns, dtype, copy)\u001b[0m\n\u001b[1;32m    410\u001b[0m         \u001b[1;31m# by definition an array here\u001b[0m\u001b[1;33m\u001b[0m\u001b[1;33m\u001b[0m\u001b[0m\n\u001b[1;32m    411\u001b[0m         \u001b[1;31m# the dtypes will be coerced to a single dtype\u001b[0m\u001b[1;33m\u001b[0m\u001b[1;33m\u001b[0m\u001b[0m\n\u001b[0;32m--> 412\u001b[0;31m         \u001b[0mvalues\u001b[0m \u001b[1;33m=\u001b[0m \u001b[0m_prep_ndarray\u001b[0m\u001b[1;33m(\u001b[0m\u001b[0mvalues\u001b[0m\u001b[1;33m,\u001b[0m \u001b[0mcopy\u001b[0m\u001b[1;33m=\u001b[0m\u001b[0mcopy\u001b[0m\u001b[1;33m)\u001b[0m\u001b[1;33m\u001b[0m\u001b[0m\n\u001b[0m\u001b[1;32m    413\u001b[0m \u001b[1;33m\u001b[0m\u001b[0m\n\u001b[1;32m    414\u001b[0m         \u001b[1;32mif\u001b[0m \u001b[0mdtype\u001b[0m \u001b[1;32mis\u001b[0m \u001b[1;32mnot\u001b[0m \u001b[1;32mNone\u001b[0m\u001b[1;33m:\u001b[0m\u001b[1;33m\u001b[0m\u001b[0m\n",
      "\u001b[0;32mC:\\Users\\USUARIO\\Anaconda3\\lib\\site-packages\\pandas\\core\\frame.py\u001b[0m in \u001b[0;36m_prep_ndarray\u001b[0;34m(values, copy)\u001b[0m\n\u001b[1;32m   5323\u001b[0m         \u001b[0mvalues\u001b[0m \u001b[1;33m=\u001b[0m \u001b[0mvalues\u001b[0m\u001b[1;33m.\u001b[0m\u001b[0mreshape\u001b[0m\u001b[1;33m(\u001b[0m\u001b[1;33m(\u001b[0m\u001b[0mvalues\u001b[0m\u001b[1;33m.\u001b[0m\u001b[0mshape\u001b[0m\u001b[1;33m[\u001b[0m\u001b[1;36m0\u001b[0m\u001b[1;33m]\u001b[0m\u001b[1;33m,\u001b[0m \u001b[1;36m1\u001b[0m\u001b[1;33m)\u001b[0m\u001b[1;33m)\u001b[0m\u001b[1;33m\u001b[0m\u001b[0m\n\u001b[1;32m   5324\u001b[0m     \u001b[1;32melif\u001b[0m \u001b[0mvalues\u001b[0m\u001b[1;33m.\u001b[0m\u001b[0mndim\u001b[0m \u001b[1;33m!=\u001b[0m \u001b[1;36m2\u001b[0m\u001b[1;33m:\u001b[0m\u001b[1;33m\u001b[0m\u001b[0m\n\u001b[0;32m-> 5325\u001b[0;31m         \u001b[1;32mraise\u001b[0m \u001b[0mValueError\u001b[0m\u001b[1;33m(\u001b[0m\u001b[1;34m'Must pass 2-d input'\u001b[0m\u001b[1;33m)\u001b[0m\u001b[1;33m\u001b[0m\u001b[0m\n\u001b[0m\u001b[1;32m   5326\u001b[0m \u001b[1;33m\u001b[0m\u001b[0m\n\u001b[1;32m   5327\u001b[0m     \u001b[1;32mreturn\u001b[0m \u001b[0mvalues\u001b[0m\u001b[1;33m\u001b[0m\u001b[0m\n",
      "\u001b[0;31mValueError\u001b[0m: Must pass 2-d input"
     ]
    }
   ],
   "source": [
    "resultado=pd.DataFrame(data=media2,index=rio)"
   ]
  },
  {
   "cell_type": "code",
   "execution_count": 93,
   "metadata": {
    "collapsed": false
   },
   "outputs": [
    {
     "data": {
      "text/html": [
       "<div>\n",
       "<table border=\"1\" class=\"dataframe\">\n",
       "  <thead>\n",
       "    <tr style=\"text-align: right;\">\n",
       "      <th></th>\n",
       "      <th>0</th>\n",
       "    </tr>\n",
       "  </thead>\n",
       "  <tbody>\n",
       "    <tr>\n",
       "      <th>NARE</th>\n",
       "      <td>1.738808e+07</td>\n",
       "    </tr>\n",
       "    <tr>\n",
       "      <th>TENCHE</th>\n",
       "      <td>8.786683e+05</td>\n",
       "    </tr>\n",
       "    <tr>\n",
       "      <th>GUAVIO</th>\n",
       "      <td>2.062469e+07</td>\n",
       "    </tr>\n",
       "    <tr>\n",
       "      <th>MIEL I</th>\n",
       "      <td>3.430428e+06</td>\n",
       "    </tr>\n",
       "    <tr>\n",
       "      <th>SINU URRA</th>\n",
       "      <td>3.165074e+06</td>\n",
       "    </tr>\n",
       "    <tr>\n",
       "      <th>PRADO</th>\n",
       "      <td>4.984191e+05</td>\n",
       "    </tr>\n",
       "    <tr>\n",
       "      <th>FLORIDA II</th>\n",
       "      <td>NaN</td>\n",
       "    </tr>\n",
       "    <tr>\n",
       "      <th>SAN CARLOS</th>\n",
       "      <td>3.084509e+06</td>\n",
       "    </tr>\n",
       "    <tr>\n",
       "      <th>ALTOANCHICAYA</th>\n",
       "      <td>4.620596e+06</td>\n",
       "    </tr>\n",
       "    <tr>\n",
       "      <th>GUATAPE</th>\n",
       "      <td>5.624479e+06</td>\n",
       "    </tr>\n",
       "    <tr>\n",
       "      <th>DESV. EEPPM (NEC,PAJ,DOL)</th>\n",
       "      <td>NaN</td>\n",
       "    </tr>\n",
       "    <tr>\n",
       "      <th>A. SAN LORENZO</th>\n",
       "      <td>8.105400e+06</td>\n",
       "    </tr>\n",
       "    <tr>\n",
       "      <th>CHUZA</th>\n",
       "      <td>NaN</td>\n",
       "    </tr>\n",
       "    <tr>\n",
       "      <th>OTROS RIOS (ESTIMADOS)</th>\n",
       "      <td>3.700457e+06</td>\n",
       "    </tr>\n",
       "    <tr>\n",
       "      <th>CALIMA</th>\n",
       "      <td>5.560117e+05</td>\n",
       "    </tr>\n",
       "    <tr>\n",
       "      <th>CAUCA SALVAJINA</th>\n",
       "      <td>2.519614e+06</td>\n",
       "    </tr>\n",
       "    <tr>\n",
       "      <th>CONCEPCION</th>\n",
       "      <td>1.488170e+06</td>\n",
       "    </tr>\n",
       "    <tr>\n",
       "      <th>GRANDE</th>\n",
       "      <td>6.729973e+06</td>\n",
       "    </tr>\n",
       "    <tr>\n",
       "      <th>BATA</th>\n",
       "      <td>1.571243e+07</td>\n",
       "    </tr>\n",
       "    <tr>\n",
       "      <th>BOGOTA N.R.</th>\n",
       "      <td>NaN</td>\n",
       "    </tr>\n",
       "    <tr>\n",
       "      <th>DIGUA</th>\n",
       "      <td>4.299954e+05</td>\n",
       "    </tr>\n",
       "    <tr>\n",
       "      <th>GUADALUPE</th>\n",
       "      <td>4.542911e+06</td>\n",
       "    </tr>\n",
       "    <tr>\n",
       "      <th>PORCE II</th>\n",
       "      <td>4.976887e+06</td>\n",
       "    </tr>\n",
       "    <tr>\n",
       "      <th>MAGDALENA BETANIA</th>\n",
       "      <td>5.580630e+06</td>\n",
       "    </tr>\n",
       "  </tbody>\n",
       "</table>\n",
       "</div>"
      ],
      "text/plain": [
       "                                      0\n",
       "NARE                       1.738808e+07\n",
       "TENCHE                     8.786683e+05\n",
       "GUAVIO                     2.062469e+07\n",
       "MIEL I                     3.430428e+06\n",
       "SINU URRA                  3.165074e+06\n",
       "PRADO                      4.984191e+05\n",
       "FLORIDA II                          NaN\n",
       "SAN CARLOS                 3.084509e+06\n",
       "ALTOANCHICAYA              4.620596e+06\n",
       "GUATAPE                    5.624479e+06\n",
       "DESV. EEPPM (NEC,PAJ,DOL)           NaN\n",
       "A. SAN LORENZO             8.105400e+06\n",
       "CHUZA                               NaN\n",
       "OTROS RIOS (ESTIMADOS)     3.700457e+06\n",
       "CALIMA                     5.560117e+05\n",
       "CAUCA SALVAJINA            2.519614e+06\n",
       "CONCEPCION                 1.488170e+06\n",
       "GRANDE                     6.729973e+06\n",
       "BATA                       1.571243e+07\n",
       "BOGOTA N.R.                         NaN\n",
       "DIGUA                      4.299954e+05\n",
       "GUADALUPE                  4.542911e+06\n",
       "PORCE II                   4.976887e+06\n",
       "MAGDALENA BETANIA          5.580630e+06"
      ]
     },
     "execution_count": 93,
     "metadata": {},
     "output_type": "execute_result"
    }
   ],
   "source": [
    "resultado"
   ]
  },
  {
   "cell_type": "code",
   "execution_count": null,
   "metadata": {
    "collapsed": true
   },
   "outputs": [],
   "source": []
  }
 ],
 "metadata": {
  "anaconda-cloud": {},
  "kernelspec": {
   "display_name": "Python [default]",
   "language": "python",
   "name": "python3"
  },
  "language_info": {
   "codemirror_mode": {
    "name": "ipython",
    "version": 3
   },
   "file_extension": ".py",
   "mimetype": "text/x-python",
   "name": "python",
   "nbconvert_exporter": "python",
   "pygments_lexer": "ipython3",
   "version": "3.5.2"
  }
 },
 "nbformat": 4,
 "nbformat_minor": 1
}
